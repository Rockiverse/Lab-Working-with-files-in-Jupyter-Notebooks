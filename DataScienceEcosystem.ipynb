{
 "cells": [
  {
   "cell_type": "markdown",
   "id": "214d7fd7-def7-4b30-b9a4-ee70f0ca57d2",
   "metadata": {},
   "source": [
    "# Data Science Tools and Ecosystem"
   ]
  },
  {
   "cell_type": "markdown",
   "id": "97ca300c-3906-4dfd-8eec-09de7d6e1ffc",
   "metadata": {},
   "source": [
    "### In this notebook, Data Science Tools and Ecosystem are summarized."
   ]
  },
  {
   "cell_type": "markdown",
   "id": "9950095b-69d9-4c4d-b553-296216121fbf",
   "metadata": {
    "jp-MarkdownHeadingCollapsed": true
   },
   "source": [
    "__Objectives__"
   ]
  },
  {
   "cell_type": "markdown",
   "id": "32429b9c-5f20-4674-8441-40f1aa707916",
   "metadata": {},
   "source": [
    "- List popular languages for Data Science  \n",
    "- Identify commonly used Data Science libraries  \n",
    "- Describe open-source tools used in Data Science  \n",
    "- Demonstrate basic arithmetic operations in Python  \n",
    "- Create and format Markdown cells in Jupyter Notebooks"
   ]
  },
  {
   "cell_type": "markdown",
   "id": "c730bc2a-246a-40ac-96da-807e32b6bdab",
   "metadata": {},
   "source": [
    "## Author\n",
    "Jorge Luis Braojos Morillas"
   ]
  },
  {
   "cell_type": "markdown",
   "id": "2b0839f4-d966-4744-b375-99230009e531",
   "metadata": {},
   "source": [
    "#### Some of the popular languages that Data Scientists use are:"
   ]
  },
  {
   "cell_type": "markdown",
   "id": "3e6eab55-692e-4453-99e1-4bab1a01def8",
   "metadata": {},
   "source": [
    "1. Python\n",
    "2. R\n",
    "3. SQL\n",
    "4. Julia"
   ]
  },
  {
   "cell_type": "markdown",
   "id": "6a24793a-c3c4-4c95-b054-5d7b7ff9e107",
   "metadata": {},
   "source": [
    "#### Some of the commonly used libraries used by Data Scientists include:"
   ]
  },
  {
   "cell_type": "markdown",
   "id": "eab5c7c2-c5fb-4cfd-91b4-f10da02fa444",
   "metadata": {},
   "source": [
    "1. Pandas\n",
    "2. NumPy\n",
    "3. Scikit-learn\n",
    "4. Matplotlib"
   ]
  },
  {
   "cell_type": "markdown",
   "id": "642bbcb6-8fb0-46bf-87ee-b976a7b25f2a",
   "metadata": {},
   "source": [
    "| Data Science Tools | \n",
    "| ------ | \n",
    "| Jupyer Notebook | \n",
    "| VS Code  | \n",
    "| Rstudio | "
   ]
  },
  {
   "cell_type": "markdown",
   "id": "08e9331e-e8ab-40ff-b6bb-76d16c4393e4",
   "metadata": {},
   "source": [
    "### Below are a few examples of evaluating arithmetic expressions in Python"
   ]
  },
  {
   "cell_type": "markdown",
   "id": "27f03536-6fd1-4152-a5b6-33edaa41b00c",
   "metadata": {},
   "source": [
    "This a simple arithmetic expression to mutiply then add integers"
   ]
  },
  {
   "cell_type": "code",
   "execution_count": 2,
   "id": "a1775ced-a477-48ad-98f3-ffa67e71440b",
   "metadata": {},
   "outputs": [
    {
     "data": {
      "text/plain": [
       "17"
      ]
     },
     "execution_count": 2,
     "metadata": {},
     "output_type": "execute_result"
    }
   ],
   "source": [
    "(3*4)+5"
   ]
  },
  {
   "cell_type": "markdown",
   "id": "c893ba71-3fd9-454c-8f8c-9bb4c3593ce2",
   "metadata": {},
   "source": [
    "This will convert 200 minutes to hours by diving by 60"
   ]
  },
  {
   "cell_type": "code",
   "execution_count": 3,
   "id": "9123f06e-6431-4f64-9d3b-691bc03afc8d",
   "metadata": {},
   "outputs": [
    {
     "data": {
      "text/plain": [
       "3.3333333333333335"
      ]
     },
     "execution_count": 3,
     "metadata": {},
     "output_type": "execute_result"
    }
   ],
   "source": [
    "200/60"
   ]
  }
 ],
 "metadata": {
  "kernelspec": {
   "display_name": "Python 3 (ipykernel)",
   "language": "python",
   "name": "python3"
  },
  "language_info": {
   "codemirror_mode": {
    "name": "ipython",
    "version": 3
   },
   "file_extension": ".py",
   "mimetype": "text/x-python",
   "name": "python",
   "nbconvert_exporter": "python",
   "pygments_lexer": "ipython3",
   "version": "3.12.8"
  }
 },
 "nbformat": 4,
 "nbformat_minor": 5
}
